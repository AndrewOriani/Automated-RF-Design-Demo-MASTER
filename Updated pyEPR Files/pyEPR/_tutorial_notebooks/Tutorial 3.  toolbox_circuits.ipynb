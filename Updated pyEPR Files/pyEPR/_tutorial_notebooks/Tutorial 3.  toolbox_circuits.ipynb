{
 "cells": [
  {
   "cell_type": "markdown",
   "metadata": {},
   "source": [
    "<table>\n",
    "    <tr>\n",
    "        <td>Auhor:</td>\n",
    "        <td>Zlatko Minev   </td>\n",
    "    </tr>\n",
    "    <tr>\n",
    "        <td>Purpose:</td>\n",
    "        <td>Demonstrate some of the basic conversion and tools in toolbox_circuits <br>\n",
    "          These are just basic utility functions   \n",
    "        </td>\n",
    "     </tr>\n",
    "        <td>File Status:</td>\n",
    "        <td>In construction </td>\n",
    "    </tr>\n",
    "</table>"
   ]
  },
  {
   "cell_type": "markdown",
   "metadata": {},
   "source": [
    "These conversions are quite basic, so I decided to not use an external package, but just manaully handle them.\n",
    "\n",
    "For all the calculations anyhow, we will only work in reduced units of MHz for energies (or GHz if need be) and nH and fF for ind and cap, resp. "
   ]
  },
  {
   "cell_type": "code",
   "execution_count": 1,
   "metadata": {},
   "outputs": [],
   "source": [
    "%load_ext autoreload\n",
    "%autoreload 2"
   ]
  },
  {
   "cell_type": "markdown",
   "metadata": {},
   "source": [
    "# Conversions  "
   ]
  },
  {
   "cell_type": "markdown",
   "metadata": {},
   "source": [
    "##### Elementary units"
   ]
  },
  {
   "cell_type": "code",
   "execution_count": 2,
   "metadata": {},
   "outputs": [
    {
     "name": "stdout",
     "output_type": "stream",
     "text": [
      "Convert.toSI(1,'nH')     =  1e-09 H\n",
      "Convert.fromSI(1.0,'nH') =  1000000000.0 nH\n",
      "Identity:  1.0\n"
     ]
    }
   ],
   "source": [
    "import pyEPR.calcs\n",
    "from pyEPR.calcs import Convert\n",
    "print(\"Convert.toSI(1,'nH')     = \", Convert.toSI(1,'nH'), \"H\")\n",
    "print(\"Convert.fromSI(1.0,'nH') = \", Convert.fromSI(1.0,'nH'), \"nH\")\n",
    "print(\"Identity: \",                  Convert.toSI(Convert.fromSI(1.0,'nH'),'nH'))"
   ]
  },
  {
   "cell_type": "markdown",
   "metadata": {},
   "source": [
    "##### Josephson Junction Parameters"
   ]
  },
  {
   "cell_type": "code",
   "execution_count": 3,
   "metadata": {},
   "outputs": [
    {
     "data": {
      "text/latex": [
       "$E_J = 16.35 \\text{ GHz} \\qquad \\text{for } L_J=10.00\\text{ nH}$"
      ],
      "text/plain": [
       "<IPython.core.display.Latex object>"
      ]
     },
     "metadata": {},
     "output_type": "display_data"
    },
    {
     "name": "stdout",
     "output_type": "stream",
     "text": [
      "\n",
      "Convert back 10.00 nH \n",
      "\n"
     ]
    },
    {
     "data": {
      "text/latex": [
       "$E_C = 298.00 \\text{ MHz} \\qquad \\text{for } C_J=65.00\\text{ fF}$"
      ],
      "text/plain": [
       "<IPython.core.display.Latex object>"
      ]
     },
     "metadata": {},
     "output_type": "display_data"
    },
    {
     "data": {
      "text/plain": [
       "'Convert back:'"
      ]
     },
     "metadata": {},
     "output_type": "display_data"
    },
    {
     "data": {
      "text/latex": [
       "$C_J = 64.57 \\text{ fF} \\qquad \\text{for } E_C=300.00\\text{ MHz}$"
      ],
      "text/plain": [
       "<IPython.core.display.Latex object>"
      ]
     },
     "metadata": {},
     "output_type": "display_data"
    }
   ],
   "source": [
    "from IPython.display import Latex\n",
    "Lj = 10\n",
    "display(Latex(r\"$E_J = %.2f \\text{ GHz} \\qquad \\text{for } L_J=%.2f\\text{ nH}$\" % (\\\n",
    "        Convert.Ej_from_Lj(Lj, 'nH', \"GHz\"),Lj)))\n",
    "\n",
    "print('\\nConvert back %.2f nH' % Convert.Lj_from_Ej(16.35E3, 'MHz', 'nH'),'\\n')\n",
    "\n",
    "display(Latex(r\"$E_C = %.2f \\text{ MHz} \\qquad \\text{for } C_J=%.2f\\text{ fF}$\" % (\\\n",
    "        Convert.Ec_from_Cs(65., 'fF', \"MHz\"),65.)))\n",
    "\n",
    "display( 'Convert back:',Latex(r\"$C_J = %.2f \\text{ fF} \\qquad \\text{for } E_C=%.2f\\text{ MHz}$\" % (\\\n",
    "        Convert.Cs_from_Ec(300, 'MHz', \"fF\"),300)))"
   ]
  },
  {
   "cell_type": "markdown",
   "metadata": {},
   "source": [
    "###### Critical current"
   ]
  },
  {
   "cell_type": "code",
   "execution_count": 4,
   "metadata": {},
   "outputs": [
    {
     "name": "stdout",
     "output_type": "stream",
     "text": [
      "32.91059784754533\n"
     ]
    },
    {
     "data": {
      "text/plain": [
       "10.284561827357917"
      ]
     },
     "execution_count": 4,
     "metadata": {},
     "output_type": "execute_result"
    }
   ],
   "source": [
    "print(Convert.Ic_from_Lj(10))\n",
    "Convert.Lj_from_Ic(32)"
   ]
  },
  {
   "cell_type": "markdown",
   "metadata": {},
   "source": [
    "##### Convinience units"
   ]
  },
  {
   "cell_type": "code",
   "execution_count": 5,
   "metadata": {},
   "outputs": [
    {
     "name": "stdout",
     "output_type": "stream",
     "text": [
      "Test EJ raw calculation = 16.35 GHz\n"
     ]
    }
   ],
   "source": [
    "from pyEPR.calcs.convert import π, pi, ϕ0, fluxQ, Planck, ħ, hbar, elementary_charge, e_el\n",
    "print(\"Test EJ raw calculation = %.2f\"%( ϕ0**2 / (10E-9 * Planck) *1E-9 ) ,'GHz')"
   ]
  },
  {
   "cell_type": "markdown",
   "metadata": {},
   "source": [
    "##### Transmon"
   ]
  },
  {
   "cell_type": "markdown",
   "metadata": {},
   "source": [
    "Linear harmonic oscillator approximation of transmon.<br>\n",
    "Convinince func"
   ]
  },
  {
   "cell_type": "code",
   "execution_count": 6,
   "metadata": {},
   "outputs": [
    {
     "data": {
      "text/latex": [
       "$\\displaystyle \n",
       "        \\begin{align}\n",
       "            L_J               &=13.0 \\mathrm{\\ nH}       &  C_\\Sigma &=65.0 \\mathrm{\\ fF}   \\\\\n",
       "            E_J               &=12.57 \\mathrm{\\ GHz}      &  E_C      &=298 \\mathrm{\\ MHz}  \\\\\n",
       "            \\omega_0  &=2\\pi\\times 5.48 \\mathrm{\\ GHz}   &  Z_0 &= 447 \\mathrm{\\ \\Omega}   \\\\\n",
       "            \\phi_\\mathrm{ZPF} &= 0.47 \\ \\ \\phi_0         &  n_\\mathrm{ZPF} &=1.07 \\ \\ (2e)  \\\\\n",
       "        \\end{align}\n",
       "        $"
      ],
      "text/plain": [
       "<IPython.core.display.Math object>"
      ]
     },
     "metadata": {},
     "output_type": "display_data"
    }
   ],
   "source": [
    "pyEPR.calcs.CalcsTransmon.transmon_print_all_params(13, 65);"
   ]
  },
  {
   "cell_type": "markdown",
   "metadata": {},
   "source": [
    "and raw"
   ]
  },
  {
   "cell_type": "code",
   "execution_count": 7,
   "metadata": {},
   "outputs": [
    {
     "data": {
      "text/plain": [
       "{'Ej_MHz': 12573.962523598551,\n",
       " 'Ec_MHz': 298.00352807167883,\n",
       " 'Lj_H': 1.3000000000000006e-08,\n",
       " 'Cs_F': 6.5e-14,\n",
       " 'Lj_nH': 13.000000000000005,\n",
       " 'Cs_fF': 65.0,\n",
       " 'Phi_ZPF': 1.5356087624822668e-16,\n",
       " 'Q_ZPF': 3.433725579754676e-19,\n",
       " 'phi_ZPF': 0.4666000811032977,\n",
       " 'n_ZPF': 1.0715814682623428,\n",
       " 'Omega_MHz': 34401.045807689065,\n",
       " 'f_MHz': 5.4750964878244375,\n",
       " 'Z_Ohms': 447.21359549995805}"
      ]
     },
     "execution_count": 7,
     "metadata": {},
     "output_type": "execute_result"
    }
   ],
   "source": [
    "pyEPR.calcs.CalcsTransmon.transmon_get_all_params(Convert.Ej_from_Lj(13, 'nH', 'MHz'), Convert.Ec_from_Cs(65, 'fF', 'MHz'))"
   ]
  }
 ],
 "metadata": {
  "kernelspec": {
   "display_name": "Python 3",
   "language": "python",
   "name": "python3"
  },
  "language_info": {
   "codemirror_mode": {
    "name": "ipython",
    "version": 3
   },
   "file_extension": ".py",
   "mimetype": "text/x-python",
   "name": "python",
   "nbconvert_exporter": "python",
   "pygments_lexer": "ipython3",
   "version": "3.8.3"
  }
 },
 "nbformat": 4,
 "nbformat_minor": 4
}
