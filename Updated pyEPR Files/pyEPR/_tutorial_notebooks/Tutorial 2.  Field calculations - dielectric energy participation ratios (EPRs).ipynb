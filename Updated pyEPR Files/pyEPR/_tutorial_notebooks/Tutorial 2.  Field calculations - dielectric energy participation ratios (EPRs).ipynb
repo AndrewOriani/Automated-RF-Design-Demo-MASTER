{
 "cells": [
  {
   "cell_type": "code",
   "execution_count": 6,
   "metadata": {},
   "outputs": [
    {
     "name": "stdout",
     "output_type": "stream",
     "text": [
      "The autoreload extension is already loaded. To reload it, use:\n",
      "  %reload_ext autoreload\n"
     ]
    }
   ],
   "source": [
    "%load_ext autoreload\n",
    "%autoreload 2\n",
    "%config IPCompleter.greedy = True"
   ]
  },
  {
   "cell_type": "markdown",
   "metadata": {},
   "source": [
    "# pyEPR Calculating Disipative Participation Ratios"
   ]
  },
  {
   "cell_type": "markdown",
   "metadata": {},
   "source": [
    "Zlatko Minev\n",
    "\n",
    "**Summary:** Following Appendix E of the energy-participation-ratio (EPR) paper, here we demonstrate how to calcualte the dielectric EPR of a chip substrate in a qubit eigen mode. \n",
    "\n",
    "We use the following definitions for the RMS energy stored in a volume $V$,\n",
    "\\begin{align}\n",
    "\\mathcal{E}_{\\mathrm{elec}}&=&\\frac{1}{4}\\mathrm{Re}\\int_{V}\\mathrm{d}v\\vec{E}_{\\text{max}}^{*}\\overleftrightarrow{\\epsilon}\\vec{E}_{\\text{max}}\\;,\\\\\\mathcal{E}_{\\mathrm{mag}}&=&\\frac{1}{4}\\mathrm{Re}\\int_{V}\\mathrm{d}v\\vec{H}_{\\text{max}}^{*}\\overleftrightarrow{\\mu}\\vec{H}_{\\text{max}}\\;,\n",
    "\\end{align}"
   ]
  },
  {
   "cell_type": "markdown",
   "metadata": {},
   "source": [
    "## The simple way  "
   ]
  },
  {
   "cell_type": "markdown",
   "metadata": {},
   "source": [
    "Following the first tutorial, let's loads the `pyEPR` package under the shorthand name `epr`."
   ]
  },
  {
   "cell_type": "code",
   "execution_count": 7,
   "metadata": {},
   "outputs": [],
   "source": [
    "import pyEPR as epr"
   ]
  },
  {
   "cell_type": "markdown",
   "metadata": {},
   "source": [
    "#### Load Ansys HFSS tutorial file  "
   ]
  },
  {
   "cell_type": "markdown",
   "metadata": {},
   "source": [
    "As we did in the previous tutorial, let us first determine where the example file is stored.\n",
    "For tutorial, let us get the path to the tutorial folder."
   ]
  },
  {
   "cell_type": "code",
   "execution_count": 8,
   "metadata": {},
   "outputs": [
    {
     "name": "stdout",
     "output_type": "stream",
     "text": [
      "We will the example project located in\n",
      " C:\\zkm-code\\pyEPR\\_example_files\n"
     ]
    }
   ],
   "source": [
    "# Load Path temporarily just to find where the tutorial folder is\n",
    "# return path_to_project\n",
    "from pathlib import Path\n",
    "path_to_project = Path(epr.__file__).parent.parent / '_example_files'\n",
    "print(f'We will the example project located in\\n {path_to_project}')"
   ]
  },
  {
   "cell_type": "markdown",
   "metadata": {},
   "source": [
    "Now, we will open Ansys Desktop and connect to a specific project and we will create the analsys eprh"
   ]
  },
  {
   "cell_type": "code",
   "execution_count": 9,
   "metadata": {},
   "outputs": [
    {
     "name": "stderr",
     "output_type": "stream",
     "text": [
      "INFO 02:35AM [connect]: Connecting to Ansys Desktop API...\n",
      "INFO 02:35AM [load_ansys_project]: \tFile path to HFSS project found.\n",
      "INFO 02:35AM [load_ansys_project]: \tOpened Ansys App\n",
      "INFO 02:35AM [load_ansys_project]: \tOpened Ansys Desktop v2016.0.0\n",
      "INFO 02:35AM [load_ansys_project]: \tOpened Ansys Project\n",
      "\tFolder:    C:/zkm-code/pyEPR/_example_files/\n",
      "\tProject:   pyEPR_tutorial1\n",
      "INFO 02:35AM [connect]: \tOpened active design\n",
      "\tDesign:    1. single_transmon [Solution type: Eigenmode]\n",
      "INFO 02:35AM [get_setup]: \tOpened setup `Setup1`  (<class 'pyEPR.ansys.HfssEMSetup'>)\n",
      "INFO 02:35AM [connect]: \tConnection to Ansys established successfully. 😀 \n",
      "\n"
     ]
    },
    {
     "name": "stdout",
     "output_type": "stream",
     "text": [
      "Design \"1. single_transmon\" info:\n",
      "\t# eigenmodes    2\n",
      "\t# variations    8\n"
     ]
    }
   ],
   "source": [
    "pinfo = epr.ProjectInfo(project_path = path_to_project, \n",
    "                         project_name = 'pyEPR_tutorial1',\n",
    "                         design_name  = '1. single_transmon')\n",
    "eprh = epr.DistributedAnalysis(pinfo)"
   ]
  },
  {
   "cell_type": "markdown",
   "metadata": {},
   "source": [
    "# Calculate participation of the substrate for mode 1 "
   ]
  },
  {
   "cell_type": "markdown",
   "metadata": {},
   "source": [
    "First, select which eigenmode to work on. Here the fundamental mode, mode 0, is the qubit.\n",
    "```python\n",
    "eprh.set_mode(0) \n",
    "```\n",
    "\n",
    "Let us now calculate the dielectric energy-participatio ratio\n",
    "of the substrate  relative to the dielectric energy of all objects, using the function\n",
    "```python \n",
    "eprh.calc_p_electric_volume\n",
    "```\n",
    "Note that when all objects are specified, this does not include any energy\n",
    "that might be stored in any lumped elements or lumped capacitors.\n",
    "\n",
    "Returns:\n",
    "---------\n",
    "    ℰ_object/ℰ_total, (ℰ_object, _total)"
   ]
  },
  {
   "cell_type": "code",
   "execution_count": 12,
   "metadata": {},
   "outputs": [
    {
     "name": "stdout",
     "output_type": "stream",
     "text": [
      "Energy in silicon substrate  = 87.7%\n"
     ]
    }
   ],
   "source": [
    "eprh.set_mode(0) \n",
    "\n",
    "# Calculate the EPR p_dielectic\n",
    "p_dielectic, (ℰ_substr, ℰ_total) = eprh.calc_p_electric_volume('substrate', 'AllObjects')\n",
    "\n",
    "print(f'Energy in silicon substrate  = {100*p_dielectic:.1f}%')"
   ]
  },
  {
   "cell_type": "markdown",
   "metadata": {},
   "source": [
    "Now, compute the electric energy stored in the vacuum \n",
    "Use the calculated total energy in all objects\n",
    "so that we don't have to recompute it, since we \n",
    "computed it  above"
   ]
  },
  {
   "cell_type": "code",
   "execution_count": 14,
   "metadata": {},
   "outputs": [
    {
     "name": "stdout",
     "output_type": "stream",
     "text": [
      "Energy in vacuum = 12.3%\n",
      "\n",
      "Since there are no other volumes,\n",
      "the two energies should sum to one: 0.9999999999999989\n"
     ]
    }
   ],
   "source": [
    "# Here we will pass in the precomputed E_total=ℰ_total\n",
    "p_vac, (ℰ_vac, ℰ_total) = eprh.calc_p_electric_volume('cavity_enclosure', E_total=ℰ_total)\n",
    "\n",
    "print(f'''Energy in vacuum = {100*p_vac:.1f}%\n",
    "\n",
    "Since there are no other volumes,\n",
    "the two energies should sum to one: {p_dielectic + p_vac}''')"
   ]
  },
  {
   "cell_type": "markdown",
   "metadata": {},
   "source": [
    "Let's find outmore about the functuion signature "
   ]
  },
  {
   "cell_type": "code",
   "execution_count": 15,
   "metadata": {},
   "outputs": [
    {
     "data": {
      "text/plain": [
       "\u001b[1;31mSignature:\u001b[0m\n",
       " \u001b[0meprh\u001b[0m\u001b[1;33m.\u001b[0m\u001b[0mcalc_p_electric_volume\u001b[0m\u001b[1;33m(\u001b[0m\u001b[1;33m\n",
       "\u001b[0m    \u001b[0mname_dielectric3D\u001b[0m\u001b[1;33m,\u001b[0m\u001b[1;33m\n",
       "\u001b[0m    \u001b[0mrelative_to\u001b[0m\u001b[1;33m=\u001b[0m\u001b[1;34m'AllObjects'\u001b[0m\u001b[1;33m,\u001b[0m\u001b[1;33m\n",
       "\u001b[0m    \u001b[0mE_total\u001b[0m\u001b[1;33m=\u001b[0m\u001b[1;32mNone\u001b[0m\u001b[1;33m,\u001b[0m\u001b[1;33m\n",
       "\u001b[0m\u001b[1;33m)\u001b[0m\u001b[1;33m\u001b[0m\u001b[1;33m\u001b[0m\u001b[0m\n",
       "\u001b[1;31mDocstring:\u001b[0m\n",
       "Calculate the dielectric energy-participatio ratio\n",
       "of a 3D object (one that has volume) relative to the dielectric energy of\n",
       "a list of object objects.\n",
       "\n",
       "This is as a function relative to another object or all objects.\n",
       "\n",
       "When all objects are specified, this does not include any energy\n",
       "that might be stored in any lumped elements or lumped capacitors.\n",
       "\n",
       "Returns:\n",
       "---------\n",
       "    ℰ_object/ℰ_total, (ℰ_object, _total)\n",
       "\u001b[1;31mFile:\u001b[0m      c:\\zkm-code\\pyepr\\pyepr\\core.py\n",
       "\u001b[1;31mType:\u001b[0m      method\n"
      ]
     },
     "metadata": {},
     "output_type": "display_data"
    }
   ],
   "source": [
    "? eprh.calc_p_electric_volume"
   ]
  },
  {
   "cell_type": "markdown",
   "metadata": {},
   "source": [
    "## Calculating the energies directly\n",
    "\n",
    "Using lower level functions "
   ]
  },
  {
   "cell_type": "code",
   "execution_count": 16,
   "metadata": {},
   "outputs": [
    {
     "name": "stdout",
     "output_type": "stream",
     "text": [
      "Energy in substrate = 87.7%\n"
     ]
    }
   ],
   "source": [
    "ℰ_total  = eprh.calc_energy_electric(volume='AllObjects')\n",
    "ℰ_substr = eprh.calc_energy_electric(volume='substrate')\n",
    "print(f'Energy in substrate = {100*ℰ_substr/ℰ_total:.1f}%')"
   ]
  },
  {
   "cell_type": "code",
   "execution_count": 17,
   "metadata": {},
   "outputs": [
    {
     "data": {
      "text/plain": [
       "\u001b[1;31mSignature:\u001b[0m\n",
       "\u001b[0meprh\u001b[0m\u001b[1;33m.\u001b[0m\u001b[0mcalc_energy_electric\u001b[0m\u001b[1;33m(\u001b[0m\u001b[1;33m\n",
       "\u001b[0m    \u001b[0mvariation\u001b[0m\u001b[1;33m=\u001b[0m\u001b[1;32mNone\u001b[0m\u001b[1;33m,\u001b[0m\u001b[1;33m\n",
       "\u001b[0m    \u001b[0mvolume\u001b[0m\u001b[1;33m=\u001b[0m\u001b[1;34m'AllObjects'\u001b[0m\u001b[1;33m,\u001b[0m\u001b[1;33m\n",
       "\u001b[0m    \u001b[0msmooth\u001b[0m\u001b[1;33m=\u001b[0m\u001b[1;32mFalse\u001b[0m\u001b[1;33m,\u001b[0m\u001b[1;33m\n",
       "\u001b[0m\u001b[1;33m)\u001b[0m\u001b[1;33m\u001b[0m\u001b[1;33m\u001b[0m\u001b[0m\n",
       "\u001b[1;31mDocstring:\u001b[0m\n",
       "Calculates two times the peak electric energy, or 4 times the RMS, :math:`4*\\mathcal{E}_{\\mathrm{elec}}`\n",
       "(since we do not divide by 2 and use the peak phasors).\n",
       "\n",
       ".. math::\n",
       "    \\mathcal{E}_{\\mathrm{elec}}=\\frac{1}{4}\\mathrm{Re}\\int_{V}\\mathrm{d}v\\vec{E}_{\\text{max}}^{*}\\overleftrightarrow{\\epsilon}\\vec{E}_{\\text{max}}\n",
       "\n",
       "\n",
       "volume : string | 'AllObjects'\n",
       "smooth : bool | False\n",
       "    Smooth the electric field or not when performing calculation\n",
       "\n",
       "Example use to calcualte the energy participation of a substrate\n",
       "\n",
       ".. code-block python\n",
       "    ℰ_total  = epr_hfss.calc_energy_electric(volume='AllObjects')\n",
       "    ℰ_substr = epr_hfss.calc_energy_electric(volume='Box1')\n",
       "    print(f'Energy in substrate = {100*ℰ_substr/ℰ_total:.1f}%')\n",
       "\u001b[1;31mFile:\u001b[0m      c:\\zkm-code\\pyepr\\pyepr\\core.py\n",
       "\u001b[1;31mType:\u001b[0m      method\n"
      ]
     },
     "metadata": {},
     "output_type": "display_data"
    }
   ],
   "source": [
    "?eprh.calc_energy_electric"
   ]
  },
  {
   "cell_type": "markdown",
   "metadata": {},
   "source": [
    "# Using the Fields calculator in HFSS directly "
   ]
  },
  {
   "cell_type": "markdown",
   "metadata": {},
   "source": [
    "We will do the same calculation again, but now using the internals of `eprh.calc_energy_electric` to demonstrate how the fields calcualtor object can be used for custom integrals and how the internals work. \n",
    "\n",
    "#### Using the HFSS Fields Calculator\n",
    "The Fields calculator enables you to perform computations using basic field quantities. The calcu­lator will compute derived quantities from the general electric field solution; write field quantities to files, locate maximum and minimum field values, and perform other operations on the field solu­tion. \n",
    "\n",
    "The calculator does not perform the computations until a value is needed or is forced for a result. This makes it more efficient, saving computing resources and time; you can do all the calculations without regard to data storage of all the calculated points of the field. It is generally easier to do all the calculations first, then plot the results.\n",
    "\n",
    "#### Direct calculation of \n",
    "\n",
    "\\begin{align}\n",
    "\\mathcal{E}_{\\mathrm{elec}}&=&\\mathrm{Re}\\int_{V}\\mathrm{d}v\\vec{E}_{\\text{max}}^{*}\\overleftrightarrow{\\epsilon}\\vec{E}_{\\text{max}}\\;.\n",
    "\\end{align}\n",
    "\n"
   ]
  },
  {
   "cell_type": "code",
   "execution_count": 18,
   "metadata": {},
   "outputs": [
    {
     "data": {
      "text/plain": [
       "3.77403611623721"
      ]
     },
     "execution_count": 18,
     "metadata": {},
     "output_type": "execute_result"
    }
   ],
   "source": [
    "from pyEPR.core import *\n",
    "from pyEPR.core import CalcObject\n",
    "\n",
    "self, volume = eprh, 'AllObjects'\n",
    "\n",
    "calcobject = CalcObject([], self.setup)\n",
    "vecE = calcobject.getQty(\"E\").smooth()\n",
    "A = vecE.times_eps()\n",
    "B = vecE.conj()\n",
    "A = A.dot(B)\n",
    "A = A.real()\n",
    "A = A.integrate_vol(name=volume)\n",
    "\n",
    "E_total = A.evaluate(lv=self._get_lv()) \n",
    "# This command numerically evaluates and displays the\n",
    "# results of calculator operations \n",
    "E_total"
   ]
  },
  {
   "cell_type": "code",
   "execution_count": 19,
   "metadata": {},
   "outputs": [
    {
     "data": {
      "text/plain": [
       "3.30908711470017"
      ]
     },
     "execution_count": 19,
     "metadata": {},
     "output_type": "execute_result"
    }
   ],
   "source": [
    "from pyEPR.core import *\n",
    "\n",
    "self, volume = eprh, 'substrate'\n",
    "\n",
    "calcobject = CalcObject([], self.setup)\n",
    "vecE = calcobject.getQty(\"E\").smooth()\n",
    "A = vecE.times_eps()\n",
    "B = vecE.conj()\n",
    "A = A.dot(B)\n",
    "A = A.real()\n",
    "A = A.integrate_vol(name=volume)\n",
    "\n",
    "E_subs = A.evaluate(lv=self._get_lv()) \n",
    "# This command numerically evaluates and displays the\n",
    "# results of calculator operations \n",
    "E_subs"
   ]
  },
  {
   "cell_type": "code",
   "execution_count": 20,
   "metadata": {},
   "outputs": [
    {
     "name": "stdout",
     "output_type": "stream",
     "text": [
      "Energy in substrate: 87.7%\n"
     ]
    }
   ],
   "source": [
    "print(f'Energy in substrate: {100*E_subs/E_total:.1f}%')"
   ]
  },
  {
   "cell_type": "markdown",
   "metadata": {},
   "source": [
    "# Summary  "
   ]
  },
  {
   "cell_type": "markdown",
   "metadata": {},
   "source": [
    "We showed three levels of how to obtain the same result, using either the \n",
    "1. `pyeprh.calc_p_electric_volume`\n",
    "2. `pyeprh.calc_energy_electric`\n",
    "3. Or the fields calcualtor"
   ]
  },
  {
   "cell_type": "markdown",
   "metadata": {},
   "source": [
    "**NEXT:** Please see *Part III* of the tutorial to continue. You will find it in the tutorial folder as a jupyter notebook. "
   ]
  }
 ],
 "metadata": {
  "kernelspec": {
   "display_name": "Python 3",
   "language": "python",
   "name": "python3"
  },
  "language_info": {
   "codemirror_mode": {
    "name": "ipython",
    "version": 3
   },
   "file_extension": ".py",
   "mimetype": "text/x-python",
   "name": "python",
   "nbconvert_exporter": "python",
   "pygments_lexer": "ipython3",
   "version": "3.8.3"
  }
 },
 "nbformat": 4,
 "nbformat_minor": 4
}
